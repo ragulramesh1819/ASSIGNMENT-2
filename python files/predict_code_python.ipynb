{
 "cells": [
  {
   "cell_type": "code",
   "execution_count": 1,
   "metadata": {},
   "outputs": [],
   "source": [
    "import tensorflow as tf\n",
    "import numpy as np\n",
    "import matplotlib.pyplot as plt\n",
    "from tensorflow.keras.preprocessing import image\n",
    "from tensorflow.keras.models import load_model"
   ]
  },
  {
   "cell_type": "code",
   "execution_count": 2,
   "metadata": {},
   "outputs": [
    {
     "name": "stderr",
     "output_type": "stream",
     "text": [
      "WARNING:absl:Compiled the loaded model, but the compiled metrics have yet to be built. `model.compile_metrics` will be empty until you train or evaluate the model.\n"
     ]
    }
   ],
   "source": [
    "model = load_model(\"E:/Assignment-2-C++/Project_Root/cifar10_hyperParameter_model.h5\")\n"
   ]
  },
  {
   "cell_type": "code",
   "execution_count": 3,
   "metadata": {},
   "outputs": [],
   "source": [
    "class_names = [\n",
    "    'airplane', 'automobile', 'bird', 'cat', 'deer', 'dog', 'frog', 'horse', 'ship', 'truck'\n",
    "]\n",
    "\n",
    "# Load image from PNG file\n",
    "image_file_path = \"E:/Assignment-2-C++/Project_Root/selected_image.png\"\n",
    "img = image.load_img(image_file_path, target_size=(32, 32))  # Resize image to (32, 32)\n",
    "png_pixels = np.array(img).flatten()[:10]  # First 10 pixel values from PNG\n",
    "\n",
    "img_array = np.array(img) / 255.0  # Normalize the image to [0, 1]\n",
    "img_array = np.expand_dims(img_array, axis=0)  # Add batch dimension\n",
    "# print(img_array)"
   ]
  },
  {
   "cell_type": "code",
   "execution_count": 4,
   "metadata": {},
   "outputs": [
    {
     "name": "stdout",
     "output_type": "stream",
     "text": [
      "\u001b[1m1/1\u001b[0m \u001b[32m━━━━━━━━━━━━━━━━━━━━\u001b[0m\u001b[37m\u001b[0m \u001b[1m0s\u001b[0m 209ms/step\n",
      "Predicted label for the PNG image: automobile\n"
     ]
    }
   ],
   "source": [
    "prediction = model.predict(img_array)\n",
    "predicted_class = np.argmax(prediction)\n",
    "\n",
    "# Print predicted class\n",
    "print(f\"Predicted label for the PNG image: {class_names[predicted_class]}\")"
   ]
  },
  {
   "cell_type": "code",
   "execution_count": 5,
   "metadata": {},
   "outputs": [
    {
     "data": {
      "image/png": "[encoded data removed]",
      "text/plain": [
       "<Figure size 640x480 with 1 Axes>"
      ]
     },
     "metadata": {},
     "output_type": "display_data"
    }
   ],
   "source": [
    "plt.imshow(img)\n",
    "plt.title(f\"Predicted: {class_names[predicted_class]}\")\n",
    "plt.show()\n",
    "\n",
    "# Load image from binary format\n",
    "binary_file_path = \"E:/Assignment-2-C++/Project_Root/resized_image_binary.bin\"\n",
    "binary_image = np.fromfile(binary_file_path, dtype=np.float32).reshape(1, 32, 32, 3)\n",
    "bin_pixels = np.array(binary_image).flatten()[:10]\n",
    "binary_image = binary_image/255.0\n",
    "# print(img_array[0][0][:10], binary_image)"
   ]
  },
  {
   "cell_type": "code",
   "execution_count": 6,
   "metadata": {},
   "outputs": [
    {
     "name": "stdout",
     "output_type": "stream",
     "text": [
      "\u001b[1m1/1\u001b[0m \u001b[32m━━━━━━━━━━━━━━━━━━━━\u001b[0m\u001b[37m\u001b[0m \u001b[1m0s\u001b[0m 33ms/step\n",
      "Predicted label for the binary image: automobile\n"
     ]
    }
   ],
   "source": [
    "prediction_bin = model.predict(binary_image)\n",
    "predicted_class_bin = np.argmax(prediction_bin)\n",
    "\n",
    "# Print predicted class for the binary image\n",
    "print(f\"Predicted label for the binary image: {class_names[predicted_class_bin]}\")"
   ]
  }
 ],
 "metadata": {
  "kernelspec": {
   "display_name": "base",
   "language": "python",
   "name": "python3"
  },
  "language_info": {
   "codemirror_mode": {
    "name": "ipython",
    "version": 3
   },
   "file_extension": ".py",
   "mimetype": "text/x-python",
   "name": "python",
   "nbconvert_exporter": "python",
   "pygments_lexer": "ipython3",
   "version": "3.12.7"
  }
 },
 "nbformat": 4,
 "nbformat_minor": 2
}
